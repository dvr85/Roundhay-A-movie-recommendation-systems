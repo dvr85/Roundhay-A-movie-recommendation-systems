{
 "cells": [
  {
   "cell_type": "markdown",
   "metadata": {},
   "source": [
    "# Import the necessary libraries"
   ]
  },
  {
   "cell_type": "code",
   "execution_count": null,
   "metadata": {
    "vscode": {
     "languageId": "plaintext"
    }
   },
   "outputs": [],
   "source": [
    "import pandas as pd\n",
    "import numpy as np\n",
    "from sklearn.metrics.pairwise import cosine_similarity"
   ]
  },
  {
   "cell_type": "markdown",
   "metadata": {},
   "source": [
    "# Load movies and ratings datasets"
   ]
  },
  {
   "cell_type": "code",
   "execution_count": null,
   "metadata": {
    "vscode": {
     "languageId": "plaintext"
    }
   },
   "outputs": [],
   "source": [
    "movies = pd.read_csv('movies.csv')\n",
    "ratings = pd.read_csv('ratings.csv')"
   ]
  },
  {
   "cell_type": "markdown",
   "metadata": {},
   "source": [
    "# User-Item Matrix for Collabrative Filtering"
   ]
  },
  {
   "cell_type": "code",
   "execution_count": null,
   "metadata": {
    "vscode": {
     "languageId": "plaintext"
    }
   },
   "outputs": [],
   "source": [
    "user_item_matrix = ratings.pivot_table(index='userId', columns='movieId', values='rating').fillna(0)"
   ]
  },
  {
   "cell_type": "markdown",
   "metadata": {},
   "source": [
    "# Genre Matrix for Content-Based Filtering"
   ]
  },
  {
   "cell_type": "code",
   "execution_count": null,
   "metadata": {
    "vscode": {
     "languageId": "plaintext"
    }
   },
   "outputs": [],
   "source": [
    "# Spliting genres into dummy variables\n",
    "movies['genres'] = movies['genres'].fillna('')  # Ensure no missing genres; Fills NaN with empty string\n",
    "genre_matrix = movies['genres'].str.get_dummies(sep='|')  # One-hot encode genres\n",
    "genre_matrix.index = movies['movieId']  # Use movieId as index"
   ]
  },
  {
   "cell_type": "markdown",
   "metadata": {},
   "source": [
    "# Compute the similarities using cosine similarity"
   ]
  },
  {
   "cell_type": "code",
   "execution_count": null,
   "metadata": {
    "vscode": {
     "languageId": "plaintext"
    }
   },
   "outputs": [],
   "source": [
    "# user-user cosine similarity based on ratings\n",
    "user_similarity = cosine_similarity(user_item_matrix.values)\n",
    "user_similarity_df = pd.DataFrame(\n",
    "    user_similarity, \n",
    "    index=user_item_matrix.index, \n",
    "    columns=user_item_matrix.index)\n",
    "\n",
    "# item-item cosine similarity based on genres\n",
    "item_similarity = cosine_similarity(genre_matrix.values)\n",
    "item_similarity_df = pd.DataFrame(\n",
    "    item_similarity, \n",
    "    index=genre_matrix.index, \n",
    "    columns=genre_matrix.index)"
   ]
  },
  {
   "cell_type": "markdown",
   "metadata": {},
   "source": [
    "# Define a function to get collaborative filtering scores"
   ]
  },
  {
   "cell_type": "code",
   "execution_count": null,
   "metadata": {
    "vscode": {
     "languageId": "plaintext"
    }
   },
   "outputs": [],
   "source": [
    "def get_collab_fil_scores(user_id, user_similarity_df, user_item_matrix):\n",
    "\n",
    "    # Get the user's ratings\n",
    "    user_ratings = user_item_matrix.loc[user_id]\n",
    "    \n",
    "    # Get similarities to other users\n",
    "    user_similarities = user_similarity_df.loc[user_id]\n",
    "    \n",
    "    # Predict ratings for items the user hasn't rated\n",
    "    cf_scores = {}\n",
    "    for movie_id in user_item_matrix.columns:\n",
    "        if user_ratings[movie_id] == 0:\n",
    "            # Weighted average of other users' ratings\n",
    "            weighted_sum = (user_item_matrix[movie_id] * user_similarities).sum()\n",
    "            similarity_sum = user_similarities.sum()\n",
    "            cf_scores[movie_id] = weighted_sum / similarity_sum if similarity_sum > 0 else 0\n",
    "    \n",
    "    return pd.Series(cf_scores).sort_values(ascending=False)"
   ]
  },
  {
   "cell_type": "markdown",
   "metadata": {},
   "source": [
    "# Define a function to get content-based filtering scores"
   ]
  },
  {
   "cell_type": "code",
   "execution_count": null,
   "metadata": {
    "vscode": {
     "languageId": "plaintext"
    }
   },
   "outputs": [],
   "source": [
    "def get_cont_fil_scores(user_id, user_item_matrix, item_similarity_df, threshold=3.0):\n",
    "\n",
    "    user_ratings = user_item_matrix.loc[user_id]\n",
    "    liked_movies = user_ratings[user_ratings >= threshold].index  # Movies rated above threshold\n",
    "\n",
    "    cbf_scores = {}\n",
    "    for movie_id in user_item_matrix.columns:\n",
    "        if user_ratings[movie_id] == 0:\n",
    "            similarities = item_similarity_df.loc[movie_id, liked_movies]\n",
    "            cbf_scores[movie_id] = similarities.mean() if not similarities.empty else 0\n",
    "    \n",
    "    return pd.Series(cbf_scores).sort_values(ascending=False)"
   ]
  },
  {
   "cell_type": "markdown",
   "metadata": {},
   "source": [
    "# Define a function to get hybrid filtering scores"
   ]
  },
  {
   "cell_type": "code",
   "execution_count": null,
   "metadata": {
    "vscode": {
     "languageId": "plaintext"
    }
   },
   "outputs": [],
   "source": [
    "def get_hybrid_recommendations(user_id, w_cf=0.6, w_cbf=0.4, top_n=5):\n",
    "\n",
    "    # Get scores from both methods\n",
    "    cf_scores = get_collab_fil_scores(user_id, user_similarity_df, user_item_matrix)\n",
    "    cbf_scores = get_cont_fil_scores(user_id, user_item_matrix, item_similarity_df)\n",
    "    \n",
    "    # Combine scores\n",
    "    all_movies = set(cf_scores.index).union(cbf_scores.index)\n",
    "    hybrid_scores = {}\n",
    "    for movie_id in all_movies:\n",
    "        cf_score = cf_scores.get(movie_id, 0)\n",
    "        cbf_score = cbf_scores.get(movie_id, 0)\n",
    "        hybrid_scores[movie_id] = w_cf * cf_score + w_cbf * cbf_score\n",
    "    \n",
    "    # Get the top recommendations\n",
    "    hybrid_series = pd.Series(hybrid_scores).sort_values(ascending=False)\n",
    "    top_movies = hybrid_series.head(top_n).index\n",
    "    \n",
    "    # Return the movie titles with scores\n",
    "    return movies[movies['movieId'].isin(top_movies)].assign(HybridScore=hybrid_series)"
   ]
  },
  {
   "cell_type": "markdown",
   "metadata": {},
   "source": [
    "# Get recommendations for a user"
   ]
  },
  {
   "cell_type": "code",
   "execution_count": null,
   "metadata": {
    "vscode": {
     "languageId": "plaintext"
    }
   },
   "outputs": [],
   "source": [
    "try:\n",
    "    user_id = int(input(\"Enter the User ID for which you want recommendations: \"))\n",
    "    \n",
    "    if user_id not in user_item_matrix.index:\n",
    "        print(f\"User ID {user_id} does not exist in the dataset. Please try again.\")\n",
    "    else:\n",
    "        recommendations = get_hybrid_recommendations(user_id, w_cf=0.5, w_cbf=0.5, top_n=10)\n",
    "        \n",
    "        # Display the recommendations\n",
    "        print(f\"\\nTop recommended movies for you, {user_id}:\")\n",
    "        print(recommendations)\n",
    "except ValueError:\n",
    "    print(\"Invalid input. Please enter a numeric User ID.\")"
   ]
  }
 ],
 "metadata": {
  "language_info": {
   "name": "python"
  }
 },
 "nbformat": 4,
 "nbformat_minor": 2
}
